{
 "cells": [
  {
   "cell_type": "code",
   "execution_count": 1,
   "id": "001a594a",
   "metadata": {},
   "outputs": [],
   "source": [
    "a=10"
   ]
  },
  {
   "cell_type": "code",
   "execution_count": 2,
   "id": "be7e6288",
   "metadata": {},
   "outputs": [
    {
     "name": "stdout",
     "output_type": "stream",
     "text": [
      "10\n"
     ]
    }
   ],
   "source": [
    "print(a)"
   ]
  },
  {
   "cell_type": "code",
   "execution_count": 3,
   "id": "1ba65b9a",
   "metadata": {},
   "outputs": [],
   "source": [
    "#주석"
   ]
  },
  {
   "cell_type": "code",
   "execution_count": 5,
   "id": "6bbaffd1",
   "metadata": {},
   "outputs": [
    {
     "name": "stdout",
     "output_type": "stream",
     "text": [
      "hello world\n"
     ]
    }
   ],
   "source": [
    "print('hello world')"
   ]
  },
  {
   "cell_type": "code",
   "execution_count": 7,
   "id": "cf513263",
   "metadata": {},
   "outputs": [
    {
     "name": "stdout",
     "output_type": "stream",
     "text": [
      "3 hi\n"
     ]
    }
   ],
   "source": [
    "print(3,'hi')"
   ]
  },
  {
   "cell_type": "code",
   "execution_count": 10,
   "id": "e9e46afa",
   "metadata": {},
   "outputs": [
    {
     "name": "stdout",
     "output_type": "stream",
     "text": [
      "[1, 2, 3, 'hello to the world']\n"
     ]
    }
   ],
   "source": [
    "b=[1,2,3,'hello to the world']\n",
    "print(b)"
   ]
  },
  {
   "cell_type": "code",
   "execution_count": 11,
   "id": "16ec0742",
   "metadata": {},
   "outputs": [],
   "source": [
    "name='elice'"
   ]
  },
  {
   "cell_type": "code",
   "execution_count": 12,
   "id": "d8e11c31",
   "metadata": {},
   "outputs": [],
   "source": [
    "apple_price=[500,600,700,800,900]"
   ]
  },
  {
   "cell_type": "code",
   "execution_count": 13,
   "id": "b608c0b4",
   "metadata": {},
   "outputs": [
    {
     "name": "stdout",
     "output_type": "stream",
     "text": [
      "[500, 600, 700, 800, 900]\n"
     ]
    }
   ],
   "source": [
    "print(apple_price)"
   ]
  },
  {
   "cell_type": "code",
   "execution_count": 14,
   "id": "b81d4695",
   "metadata": {},
   "outputs": [
    {
     "name": "stdout",
     "output_type": "stream",
     "text": [
      "10\n"
     ]
    }
   ],
   "source": [
    "print(4+6)"
   ]
  },
  {
   "cell_type": "code",
   "execution_count": 15,
   "id": "4be0e48e",
   "metadata": {},
   "outputs": [
    {
     "name": "stdout",
     "output_type": "stream",
     "text": [
      "-5\n"
     ]
    }
   ],
   "source": [
    "print(4-9)"
   ]
  },
  {
   "cell_type": "code",
   "execution_count": 16,
   "id": "369eef6a",
   "metadata": {},
   "outputs": [
    {
     "name": "stdout",
     "output_type": "stream",
     "text": [
      "15\n",
      "2.0\n"
     ]
    }
   ],
   "source": [
    "print(3*5)\n",
    "print(4/2)"
   ]
  },
  {
   "cell_type": "code",
   "execution_count": 17,
   "id": "56f69bf8",
   "metadata": {},
   "outputs": [
    {
     "name": "stdout",
     "output_type": "stream",
     "text": [
      "5\n"
     ]
    }
   ],
   "source": [
    "num=3\n",
    "print(num+2)"
   ]
  },
  {
   "cell_type": "code",
   "execution_count": 18,
   "id": "94ac4cc3",
   "metadata": {},
   "outputs": [
    {
     "name": "stdout",
     "output_type": "stream",
     "text": [
      "네가 생각한 답은 11.0 야!!\n"
     ]
    }
   ],
   "source": [
    "num1=12\n",
    "num2=num1+10\n",
    "answer=num2/2\n",
    "print('네가 생각한 답은',answer,'야!!')"
   ]
  },
  {
   "cell_type": "code",
   "execution_count": 19,
   "id": "23e8478a",
   "metadata": {},
   "outputs": [
    {
     "name": "stdout",
     "output_type": "stream",
     "text": [
      "2.6\n"
     ]
    }
   ],
   "source": [
    "print(13/5)"
   ]
  },
  {
   "cell_type": "code",
   "execution_count": 20,
   "id": "c0da7b51",
   "metadata": {},
   "outputs": [
    {
     "name": "stdout",
     "output_type": "stream",
     "text": [
      "2\n"
     ]
    }
   ],
   "source": [
    "print(13//5)"
   ]
  },
  {
   "cell_type": "code",
   "execution_count": 21,
   "id": "0c0887c7",
   "metadata": {},
   "outputs": [
    {
     "name": "stdout",
     "output_type": "stream",
     "text": [
      "3\n"
     ]
    }
   ],
   "source": [
    "print(13%5)"
   ]
  },
  {
   "cell_type": "code",
   "execution_count": 22,
   "id": "abc12adf",
   "metadata": {},
   "outputs": [
    {
     "name": "stdout",
     "output_type": "stream",
     "text": [
      "1024\n"
     ]
    }
   ],
   "source": [
    "print(2**10)"
   ]
  },
  {
   "cell_type": "code",
   "execution_count": 26,
   "id": "1cfc5d93",
   "metadata": {},
   "outputs": [],
   "source": [
    "ans1=6%5"
   ]
  },
  {
   "cell_type": "code",
   "execution_count": 27,
   "id": "173cbb99",
   "metadata": {},
   "outputs": [],
   "source": [
    "ans2=4**2"
   ]
  },
  {
   "cell_type": "code",
   "execution_count": 28,
   "id": "d3665de8",
   "metadata": {},
   "outputs": [
    {
     "name": "stdout",
     "output_type": "stream",
     "text": [
      "1 16\n"
     ]
    }
   ],
   "source": [
    "print(ans1,ans2)"
   ]
  },
  {
   "cell_type": "code",
   "execution_count": 29,
   "id": "6f5ba2f8",
   "metadata": {},
   "outputs": [
    {
     "name": "stdout",
     "output_type": "stream",
     "text": [
      "hihello\n"
     ]
    }
   ],
   "source": [
    "print('hi'+'hello')"
   ]
  },
  {
   "cell_type": "code",
   "execution_count": 30,
   "id": "43faf843",
   "metadata": {},
   "outputs": [
    {
     "name": "stdout",
     "output_type": "stream",
     "text": [
      "hihihi\n"
     ]
    }
   ],
   "source": [
    "print('hi'*3)"
   ]
  },
  {
   "cell_type": "code",
   "execution_count": 39,
   "id": "e0c28226",
   "metadata": {},
   "outputs": [
    {
     "name": "stdout",
     "output_type": "stream",
     "text": [
      "덩덕쿵덕\n"
     ]
    }
   ],
   "source": [
    "str1='덩덕'+'쿵덕'\n",
    "print(str1)"
   ]
  },
  {
   "cell_type": "code",
   "execution_count": 41,
   "id": "7ae4cd27",
   "metadata": {},
   "outputs": [
    {
     "name": "stdout",
     "output_type": "stream",
     "text": [
      "쿵덕쿵덕\n"
     ]
    }
   ],
   "source": [
    "str2='쿵덕'*2\n",
    "print(str2)"
   ]
  },
  {
   "cell_type": "code",
   "execution_count": 43,
   "id": "ea859cc8",
   "metadata": {},
   "outputs": [
    {
     "name": "stdout",
     "output_type": "stream",
     "text": [
      "덩덕쿵덕쿵덕쿵덕덩덕쿵덕쿵덕쿵덕\n"
     ]
    }
   ],
   "source": [
    "jajinmori=(str1+str2)*2\n",
    "print(jajinmori)"
   ]
  },
  {
   "cell_type": "code",
   "execution_count": 46,
   "id": "b5ae304a",
   "metadata": {},
   "outputs": [
    {
     "data": {
      "text/plain": [
       "'b'"
      ]
     },
     "execution_count": 46,
     "metadata": {},
     "output_type": "execute_result"
    }
   ],
   "source": [
    "'abcde'[1]"
   ]
  },
  {
   "cell_type": "code",
   "execution_count": 47,
   "id": "530ce84a",
   "metadata": {},
   "outputs": [
    {
     "data": {
      "text/plain": [
       "3"
      ]
     },
     "execution_count": 47,
     "metadata": {},
     "output_type": "execute_result"
    }
   ],
   "source": [
    "[1,2,3,4,5][2]"
   ]
  },
  {
   "cell_type": "code",
   "execution_count": 48,
   "id": "b0d477f2",
   "metadata": {},
   "outputs": [
    {
     "data": {
      "text/plain": [
       "'b'"
      ]
     },
     "execution_count": 48,
     "metadata": {},
     "output_type": "execute_result"
    }
   ],
   "source": [
    "word='abcde'\n",
    "word[1]"
   ]
  },
  {
   "cell_type": "code",
   "execution_count": 49,
   "id": "72120c1f",
   "metadata": {},
   "outputs": [
    {
     "data": {
      "text/plain": [
       "'rabbit'"
      ]
     },
     "execution_count": 49,
     "metadata": {},
     "output_type": "execute_result"
    }
   ],
   "source": [
    "animal=['rabbit','bear','lion']\n",
    "animal[0]"
   ]
  },
  {
   "cell_type": "code",
   "execution_count": 50,
   "id": "1053005e",
   "metadata": {},
   "outputs": [],
   "source": [
    "animal[0]='cat'"
   ]
  },
  {
   "cell_type": "code",
   "execution_count": 51,
   "id": "e1229dba",
   "metadata": {},
   "outputs": [
    {
     "name": "stdout",
     "output_type": "stream",
     "text": [
      "['cat', 'bear', 'lion']\n"
     ]
    }
   ],
   "source": [
    "print(animal)"
   ]
  },
  {
   "cell_type": "code",
   "execution_count": 52,
   "id": "df5fb4de",
   "metadata": {},
   "outputs": [
    {
     "data": {
      "text/plain": [
       "'py'"
      ]
     },
     "execution_count": 52,
     "metadata": {},
     "output_type": "execute_result"
    }
   ],
   "source": [
    "word='python'\n",
    "word[0:2]"
   ]
  },
  {
   "cell_type": "code",
   "execution_count": 53,
   "id": "7832cc0c",
   "metadata": {},
   "outputs": [
    {
     "data": {
      "text/plain": [
       "'pyt'"
      ]
     },
     "execution_count": 53,
     "metadata": {},
     "output_type": "execute_result"
    }
   ],
   "source": [
    "word[0:3]"
   ]
  },
  {
   "cell_type": "code",
   "execution_count": 54,
   "id": "8482b165",
   "metadata": {},
   "outputs": [],
   "source": [
    "bag1=['silver','silver','diamond','silver','silver','silver','silver']\n",
    "jw1=bag1[2]"
   ]
  },
  {
   "cell_type": "code",
   "execution_count": 55,
   "id": "eac0df80",
   "metadata": {},
   "outputs": [],
   "source": [
    "bag2=['silver','silver','gold','gold','gold','silver','silver','silver']\n",
    "jw2=bag2[2:5]"
   ]
  },
  {
   "cell_type": "code",
   "execution_count": 56,
   "id": "d94ce872",
   "metadata": {},
   "outputs": [
    {
     "name": "stdout",
     "output_type": "stream",
     "text": [
      "두더지 가방 안의 가장 비싼 보석 diamond\n",
      "두더지 가방 안의 금빛 보석들 ['gold', 'gold', 'gold']\n"
     ]
    }
   ],
   "source": [
    "print('두더지 가방 안의 가장 비싼 보석',jw1)\n",
    "print('두더지 가방 안의 금빛 보석들',jw2)"
   ]
  },
  {
   "cell_type": "code",
   "execution_count": 57,
   "id": "d04975b8",
   "metadata": {},
   "outputs": [
    {
     "name": "stdout",
     "output_type": "stream",
     "text": [
      "*\n",
      "**\n",
      "***\n",
      "****\n",
      "*****\n"
     ]
    }
   ],
   "source": [
    "print('*')\n",
    "print('*'*2)\n",
    "print('*'*3)\n",
    "print('*'*4)\n",
    "print('*'*5)\n",
    "\n"
   ]
  },
  {
   "cell_type": "code",
   "execution_count": 1,
   "id": "daaac8dd",
   "metadata": {},
   "outputs": [
    {
     "name": "stdout",
     "output_type": "stream",
     "text": [
      "64.4\n"
     ]
    }
   ],
   "source": [
    "c=18\n",
    "f=c*(9/5)+32\n",
    "print(f)"
   ]
  },
  {
   "cell_type": "code",
   "execution_count": 3,
   "id": "c054362d",
   "metadata": {},
   "outputs": [
    {
     "name": "stdout",
     "output_type": "stream",
     "text": [
      "3\n"
     ]
    }
   ],
   "source": [
    "var=input()"
   ]
  },
  {
   "cell_type": "code",
   "execution_count": 4,
   "id": "f329042f",
   "metadata": {},
   "outputs": [
    {
     "name": "stdout",
     "output_type": "stream",
     "text": [
      "앵무새: 3\n"
     ]
    }
   ],
   "source": [
    "print('앵무새:',var)"
   ]
  },
  {
   "cell_type": "code",
   "execution_count": 5,
   "id": "2c722fa2",
   "metadata": {},
   "outputs": [],
   "source": [
    "var=4"
   ]
  },
  {
   "cell_type": "code",
   "execution_count": 6,
   "id": "73175519",
   "metadata": {},
   "outputs": [
    {
     "name": "stdout",
     "output_type": "stream",
     "text": [
      "앵무새 says: 4\n"
     ]
    }
   ],
   "source": [
    "print('앵무새 says:',var)"
   ]
  },
  {
   "cell_type": "code",
   "execution_count": 7,
   "id": "e8709d02",
   "metadata": {},
   "outputs": [
    {
     "name": "stdout",
     "output_type": "stream",
     "text": [
      "99\n"
     ]
    }
   ],
   "source": [
    "var=input()"
   ]
  },
  {
   "cell_type": "code",
   "execution_count": 8,
   "id": "b69826cf",
   "metadata": {},
   "outputs": [
    {
     "name": "stdout",
     "output_type": "stream",
     "text": [
      "<class 'str'>\n"
     ]
    }
   ],
   "source": [
    "print(type(var))"
   ]
  },
  {
   "cell_type": "code",
   "execution_count": 9,
   "id": "4de6c1e7",
   "metadata": {},
   "outputs": [],
   "source": [
    "var=9"
   ]
  },
  {
   "cell_type": "code",
   "execution_count": 10,
   "id": "ebd9af58",
   "metadata": {},
   "outputs": [
    {
     "name": "stdout",
     "output_type": "stream",
     "text": [
      "<class 'int'>\n"
     ]
    }
   ],
   "source": [
    "print(type(var))"
   ]
  },
  {
   "cell_type": "code",
   "execution_count": 11,
   "id": "e4aa2bb8",
   "metadata": {},
   "outputs": [
    {
     "name": "stdout",
     "output_type": "stream",
     "text": [
      "<class 'float'>\n"
     ]
    }
   ],
   "source": [
    "var=5.332\n",
    "print(type(var))"
   ]
  },
  {
   "cell_type": "code",
   "execution_count": 12,
   "id": "533c8106",
   "metadata": {},
   "outputs": [
    {
     "data": {
      "text/plain": [
       "float"
      ]
     },
     "execution_count": 12,
     "metadata": {},
     "output_type": "execute_result"
    }
   ],
   "source": [
    "type(var)"
   ]
  },
  {
   "cell_type": "code",
   "execution_count": 13,
   "id": "2583b568",
   "metadata": {},
   "outputs": [
    {
     "data": {
      "text/plain": [
       "5"
      ]
     },
     "execution_count": 13,
     "metadata": {},
     "output_type": "execute_result"
    }
   ],
   "source": [
    "int(var)"
   ]
  },
  {
   "cell_type": "code",
   "execution_count": 14,
   "id": "4eba2231",
   "metadata": {},
   "outputs": [
    {
     "data": {
      "text/plain": [
       "float"
      ]
     },
     "execution_count": 14,
     "metadata": {},
     "output_type": "execute_result"
    }
   ],
   "source": [
    "type(var)"
   ]
  },
  {
   "cell_type": "code",
   "execution_count": 15,
   "id": "6d14fed6",
   "metadata": {},
   "outputs": [
    {
     "data": {
      "text/plain": [
       "5.332"
      ]
     },
     "execution_count": 15,
     "metadata": {},
     "output_type": "execute_result"
    }
   ],
   "source": [
    "var"
   ]
  },
  {
   "cell_type": "code",
   "execution_count": 16,
   "id": "2f7a5b2c",
   "metadata": {},
   "outputs": [
    {
     "data": {
      "text/plain": [
       "123"
      ]
     },
     "execution_count": 16,
     "metadata": {},
     "output_type": "execute_result"
    }
   ],
   "source": [
    "int('123')"
   ]
  },
  {
   "cell_type": "code",
   "execution_count": 17,
   "id": "dcd6a7cb",
   "metadata": {},
   "outputs": [
    {
     "data": {
      "text/plain": [
       "'123'"
      ]
     },
     "execution_count": 17,
     "metadata": {},
     "output_type": "execute_result"
    }
   ],
   "source": [
    "str(123)"
   ]
  },
  {
   "cell_type": "code",
   "execution_count": 18,
   "id": "d31eb437",
   "metadata": {},
   "outputs": [
    {
     "name": "stdout",
     "output_type": "stream",
     "text": [
      "<class 'str'>\n"
     ]
    }
   ],
   "source": [
    "a='345'\n",
    "print(type(a))"
   ]
  },
  {
   "cell_type": "code",
   "execution_count": 19,
   "id": "3177b22b",
   "metadata": {},
   "outputs": [
    {
     "name": "stdout",
     "output_type": "stream",
     "text": [
      "<class 'int'>\n"
     ]
    }
   ],
   "source": [
    "b=345\n",
    "print(type(b))"
   ]
  },
  {
   "cell_type": "code",
   "execution_count": 20,
   "id": "8bcfec9e",
   "metadata": {},
   "outputs": [
    {
     "name": "stdout",
     "output_type": "stream",
     "text": [
      "<class 'int'>\n"
     ]
    }
   ],
   "source": [
    "c=int('234')\n",
    "print(type(c))"
   ]
  },
  {
   "cell_type": "code",
   "execution_count": 21,
   "id": "643a5f10",
   "metadata": {},
   "outputs": [
    {
     "name": "stdout",
     "output_type": "stream",
     "text": [
      "500\n"
     ]
    }
   ],
   "source": [
    "money=input()"
   ]
  },
  {
   "cell_type": "code",
   "execution_count": 22,
   "id": "8fee52ba",
   "metadata": {},
   "outputs": [],
   "source": [
    "money=int(money)"
   ]
  },
  {
   "cell_type": "code",
   "execution_count": 23,
   "id": "314452e5",
   "metadata": {},
   "outputs": [
    {
     "name": "stdout",
     "output_type": "stream",
     "text": [
      "1000\n"
     ]
    }
   ],
   "source": [
    "print(money*2)"
   ]
  },
  {
   "cell_type": "code",
   "execution_count": 24,
   "id": "b24bd1c4",
   "metadata": {},
   "outputs": [
    {
     "data": {
      "text/plain": [
       "False"
      ]
     },
     "execution_count": 24,
     "metadata": {},
     "output_type": "execute_result"
    }
   ],
   "source": [
    "2==4"
   ]
  },
  {
   "cell_type": "code",
   "execution_count": 25,
   "id": "84483700",
   "metadata": {},
   "outputs": [
    {
     "name": "stdout",
     "output_type": "stream",
     "text": [
      "True\n"
     ]
    }
   ],
   "source": [
    "print(3<4)"
   ]
  },
  {
   "cell_type": "code",
   "execution_count": 26,
   "id": "d3460687",
   "metadata": {},
   "outputs": [
    {
     "name": "stdout",
     "output_type": "stream",
     "text": [
      "True\n"
     ]
    }
   ],
   "source": [
    "print(4>2)"
   ]
  },
  {
   "cell_type": "code",
   "execution_count": 27,
   "id": "c1f96080",
   "metadata": {},
   "outputs": [
    {
     "name": "stdout",
     "output_type": "stream",
     "text": [
      "False\n"
     ]
    }
   ],
   "source": [
    "print(4<2)"
   ]
  },
  {
   "cell_type": "code",
   "execution_count": 28,
   "id": "29269824",
   "metadata": {},
   "outputs": [
    {
     "name": "stdout",
     "output_type": "stream",
     "text": [
      "True False\n"
     ]
    }
   ],
   "source": [
    "ans1=5>2\n",
    "ans2=3!=3\n",
    "print(ans1,ans2)"
   ]
  },
  {
   "cell_type": "code",
   "execution_count": 36,
   "id": "2de47c35",
   "metadata": {},
   "outputs": [
    {
     "name": "stdout",
     "output_type": "stream",
     "text": [
      "True False\n"
     ]
    }
   ],
   "source": [
    "stat1=2<4 and 4<5\n",
    "stat2= 4>=6 or 3==5\n",
    "print(stat1,stat2)"
   ]
  },
  {
   "cell_type": "code",
   "execution_count": 37,
   "id": "9ebec6fe",
   "metadata": {},
   "outputs": [
    {
     "ename": "NameError",
     "evalue": "name 'i' is not defined",
     "output_type": "error",
     "traceback": [
      "\u001b[0;31m---------------------------------------------------------------------------\u001b[0m",
      "\u001b[0;31mNameError\u001b[0m                                 Traceback (most recent call last)",
      "\u001b[0;32m/var/folders/yr/q5d6k6xn7ln3z62nh2fcbyx40000gn/T/ipykernel_1408/74007413.py\u001b[0m in \u001b[0;36m<module>\u001b[0;34m\u001b[0m\n\u001b[0;32m----> 1\u001b[0;31m \u001b[0;32mif\u001b[0m \u001b[0mi\u001b[0m\u001b[0;34m==\u001b[0m\u001b[0;36m1\u001b[0m\u001b[0;34m:\u001b[0m \u001b[0mprint\u001b[0m\u001b[0;34m(\u001b[0m\u001b[0mi\u001b[0m\u001b[0;34m)\u001b[0m\u001b[0;34m\u001b[0m\u001b[0;34m\u001b[0m\u001b[0m\n\u001b[0m",
      "\u001b[0;31mNameError\u001b[0m: name 'i' is not defined"
     ]
    }
   ],
   "source": [
    "if i==1: print(i)"
   ]
  },
  {
   "cell_type": "code",
   "execution_count": 38,
   "id": "2aa72df0",
   "metadata": {},
   "outputs": [],
   "source": [
    "i=2\n",
    "if i==1: print(i)"
   ]
  },
  {
   "cell_type": "code",
   "execution_count": 39,
   "id": "3df83cd9",
   "metadata": {},
   "outputs": [
    {
     "name": "stdout",
     "output_type": "stream",
     "text": [
      "2\n"
     ]
    }
   ],
   "source": [
    "i=2\n",
    "if i==2: print(i)"
   ]
  },
  {
   "cell_type": "code",
   "execution_count": 49,
   "id": "70624ec2",
   "metadata": {},
   "outputs": [
    {
     "name": "stdout",
     "output_type": "stream",
     "text": [
      "-10\n"
     ]
    }
   ],
   "source": [
    "cookie=int(input())"
   ]
  },
  {
   "cell_type": "code",
   "execution_count": 52,
   "id": "0cd9d3b1",
   "metadata": {},
   "outputs": [],
   "source": [
    "if cookie<0:\n",
    "    cookie=cookie*(-1)"
   ]
  },
  {
   "cell_type": "code",
   "execution_count": 53,
   "id": "4be6d293",
   "metadata": {},
   "outputs": [
    {
     "name": "stdout",
     "output_type": "stream",
     "text": [
      "10\n"
     ]
    }
   ],
   "source": [
    "print(cookie)"
   ]
  },
  {
   "cell_type": "code",
   "execution_count": 55,
   "id": "397b0467",
   "metadata": {},
   "outputs": [
    {
     "name": "stdout",
     "output_type": "stream",
     "text": [
      "9\n"
     ]
    }
   ],
   "source": [
    "i=8\n",
    "if i==1:\n",
    "    print(i)\n",
    "else:\n",
    "    print(i+1)"
   ]
  },
  {
   "cell_type": "code",
   "execution_count": 57,
   "id": "0dabf010",
   "metadata": {},
   "outputs": [
    {
     "name": "stdout",
     "output_type": "stream",
     "text": [
      "9\n",
      "odd number\n"
     ]
    }
   ],
   "source": [
    "num=int(input())\n",
    "if num%2==0:\n",
    "    print('even number')\n",
    "else:\n",
    "    print('odd number')"
   ]
  },
  {
   "cell_type": "code",
   "execution_count": 61,
   "id": "dfcfd5eb",
   "metadata": {},
   "outputs": [
    {
     "name": "stdout",
     "output_type": "stream",
     "text": [
      "14\n",
      "over\n"
     ]
    }
   ],
   "source": [
    "ans=10\n",
    "num=int(input())\n",
    "if num>ans:\n",
    "    print('over')\n",
    "elif num==ans:\n",
    "    print('same')\n",
    "elif num<ans:\n",
    "    print('under')"
   ]
  },
  {
   "cell_type": "code",
   "execution_count": 64,
   "id": "8fd7b5e6",
   "metadata": {},
   "outputs": [
    {
     "name": "stdout",
     "output_type": "stream",
     "text": [
      "89\n",
      "두 자리 숫자 입니다.\n"
     ]
    }
   ],
   "source": [
    "num=int(input())\n",
    "if 0<num<10:\n",
    "    print('한 자리 숫자 입니다.')\n",
    "elif 10<=num<100:\n",
    "    print('두 자리 숫자 입니다.')\n",
    "elif 100<=num<1000:\n",
    "    print('세 자리 숫자 입니다.')\n",
    "else:\n",
    "    print('네 자리 이상 숫자 입니다.')"
   ]
  },
  {
   "cell_type": "code",
   "execution_count": null,
   "id": "11496d7b",
   "metadata": {},
   "outputs": [],
   "source": []
  }
 ],
 "metadata": {
  "kernelspec": {
   "display_name": "Python 3 (ipykernel)",
   "language": "python",
   "name": "python3"
  },
  "language_info": {
   "codemirror_mode": {
    "name": "ipython",
    "version": 3
   },
   "file_extension": ".py",
   "mimetype": "text/x-python",
   "name": "python",
   "nbconvert_exporter": "python",
   "pygments_lexer": "ipython3",
   "version": "3.9.13"
  }
 },
 "nbformat": 4,
 "nbformat_minor": 5
}
